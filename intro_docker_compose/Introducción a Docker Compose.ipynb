{
 "cells": [
  {
   "cell_type": "markdown",
   "metadata": {},
   "source": [
    "# Introducción a Docker"
   ]
  },
  {
   "cell_type": "markdown",
   "metadata": {},
   "source": [
    "Disertante: Ing Matías Varela\n",
    "@matuvarela\n",
    "https://github.com/matuu/presentaciones/intro_docker_compose\n",
    "#### Fuentes:\n",
    "* **https://docs.docker.com/**\n",
    "* https://docs.docker.com/compose/\n",
    "* https://juliomunoz.wordpress.com/2015/01/20/introduccion-a-docker/\n",
    "* https://carlosazaustre.es/blog/desplegando-contenedores-docker-en-digital-ocean/\n",
    "* http://indizen.com/introduccion-a-docker/"
   ]
  },
  {
   "cell_type": "markdown",
   "metadata": {
    "slideshow": {
     "slide_type": "slide"
    }
   },
   "source": [
    "# Introducción a Docker\n",
    "\n",
    "<img src=\"docker.jpg\"/>"
   ]
  },
  {
   "cell_type": "markdown",
   "metadata": {
    "slideshow": {
     "slide_type": "subslide"
    }
   },
   "source": [
    "# ...y docker-compose\n",
    "\n",
    "<img src=\"compose.png\"/>"
   ]
  },
  {
   "cell_type": "markdown",
   "metadata": {
    "slideshow": {
     "slide_type": "slide"
    }
   },
   "source": [
    "## ¿Qué es docker?"
   ]
  },
  {
   "cell_type": "markdown",
   "metadata": {
    "slideshow": {
     "slide_type": "fragment"
    }
   },
   "source": [
    "### Administra y gestiona contenedores virtuales\n",
    "\n",
    "Esto te permite empaquetar una aplicación con todas sus dependencias en una unidad estandarizada, garantizando que siempre ejecutaremos lo mismo independientemente del entorno donde se cargue."
   ]
  },
  {
   "cell_type": "markdown",
   "metadata": {
    "slideshow": {
     "slide_type": "fragment"
    }
   },
   "source": [
    "### Provee modos de comunicación entre contenedores y host\n"
   ]
  },
  {
   "cell_type": "markdown",
   "metadata": {
    "slideshow": {
     "slide_type": "slide"
    }
   },
   "source": [
    "## Características"
   ]
  },
  {
   "cell_type": "markdown",
   "metadata": {
    "slideshow": {
     "slide_type": "subslide"
    }
   },
   "source": [
    "### Ligero\n",
    "\n",
    "Los contenedores no son maquinas virtuales, su virtualización es a nivel del SO.\n",
    "Aislan apps y dependencias pero comparten kernel."
   ]
  },
  {
   "cell_type": "markdown",
   "metadata": {
    "slideshow": {
     "slide_type": "fragment"
    }
   },
   "source": [
    "<img src=\"ligero.png\" />"
   ]
  },
  {
   "cell_type": "markdown",
   "metadata": {
    "slideshow": {
     "slide_type": "subslide"
    }
   },
   "source": [
    "### Open\n",
    "\n",
    "* Se basa en estándares abiertos.\n",
    "* Se ejecuta de manera nativa en GNU/Linux.\n",
    "* En Windows y Mac se ejecuta a través de **Boot2Docker** (una virtual con Ubuntu y Docker instalado)"
   ]
  },
  {
   "cell_type": "markdown",
   "metadata": {
    "slideshow": {
     "slide_type": "subslide"
    }
   },
   "source": [
    "### Seguro\n",
    "\n",
    "Los contenedores aíslan las aplicaciones unas de otras.\n"
   ]
  },
  {
   "cell_type": "markdown",
   "metadata": {
    "slideshow": {
     "slide_type": "slide"
    }
   },
   "source": [
    "### ¿Cómo nos ayuda Docker a construir mejor software?"
   ]
  },
  {
   "cell_type": "markdown",
   "metadata": {
    "slideshow": {
     "slide_type": "fragment"
    }
   },
   "source": [
    "#### Independiza al desarrollador de la creación de entornos."
   ]
  },
  {
   "cell_type": "markdown",
   "metadata": {
    "slideshow": {
     "slide_type": "fragment"
    }
   },
   "source": [
    "#### No hay conflictos de versiones de herramientos ni dependencias."
   ]
  },
  {
   "cell_type": "markdown",
   "metadata": {
    "slideshow": {
     "slide_type": "fragment"
    }
   },
   "source": [
    "#### Empaquetando la aplicación junto con su configuración y dependencias en un contenedor, la aplicación siempre funcionará como se diseñó localmente."
   ]
  },
  {
   "cell_type": "markdown",
   "metadata": {
    "slideshow": {
     "slide_type": "fragment"
    }
   },
   "source": [
    "#### Los usuarios de Docker, de media, desarrollan y despliegan 7 veces más rápido. Esto agiliza la entrega de versiones y actualizaciones."
   ]
  },
  {
   "cell_type": "markdown",
   "metadata": {
    "slideshow": {
     "slide_type": "fragment"
    }
   },
   "source": [
    "#### Los contenedores se arrancan y paran en segundos, es muy fácil escalar una servicio para atender a picos de demanda."
   ]
  },
  {
   "cell_type": "markdown",
   "metadata": {
    "slideshow": {
     "slide_type": "slide"
    }
   },
   "source": [
    "## Terminología"
   ]
  },
  {
   "cell_type": "markdown",
   "metadata": {
    "slideshow": {
     "slide_type": "subslide"
    }
   },
   "source": [
    "### images (imágenes)\n",
    "\n",
    "* Snapshot de \"maquinas virtuales\" o contenedores\n",
    "* Gran repositorio público con miles de imágenes (DockerHub)\n",
    "* Personalización de las imagenes.\n",
    "* Subir tu imagen al repositorio público."
   ]
  },
  {
   "cell_type": "markdown",
   "metadata": {
    "slideshow": {
     "slide_type": "fragment"
    }
   },
   "source": [
    "<img src=\"docker-1.png\"/>"
   ]
  },
  {
   "cell_type": "markdown",
   "metadata": {
    "slideshow": {
     "slide_type": "subslide"
    }
   },
   "source": [
    "### container (contenedores)\n",
    "\n",
    "* Docker \"ejecuta\" contenedores **(ver LXC)**\n",
    "* Se crean a partir de las imágenes.\n",
    "* Es posible \"mapear\" puertos del contenedores con puertos del host para acceder a ellos."
   ]
  },
  {
   "cell_type": "markdown",
   "metadata": {
    "slideshow": {
     "slide_type": "fragment"
    }
   },
   "source": [
    "<img src=\"docker-2.png\"/>"
   ]
  },
  {
   "cell_type": "markdown",
   "metadata": {},
   "source": [
    "### volumenes\n",
    "\n",
    "* \n"
   ]
  }
 ],
 "metadata": {
  "celltoolbar": "Slideshow",
  "kernelspec": {
   "display_name": "Python 3",
   "language": "python",
   "name": "python3"
  },
  "language_info": {
   "codemirror_mode": {
    "name": "ipython",
    "version": 3
   },
   "file_extension": ".py",
   "mimetype": "text/x-python",
   "name": "python",
   "nbconvert_exporter": "python",
   "pygments_lexer": "ipython3",
   "version": "3.5.0"
  }
 },
 "nbformat": 4,
 "nbformat_minor": 0
}
