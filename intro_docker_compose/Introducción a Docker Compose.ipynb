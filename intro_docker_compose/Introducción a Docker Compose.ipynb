{
 "cells": [
  {
   "cell_type": "markdown",
   "metadata": {
    "slideshow": {
     "slide_type": "slide"
    }
   },
   "source": [
    "\n",
    "\n",
    "# Introducción a Docker y Docker-Compose\n",
    "\n",
    "Disertante: Ing Matías Varela\n",
    "\n",
    "@matuvarela\n",
    "\n",
    "Repo: https://github.com/matuu/presentaciones --> **intro_docker_compose**\n",
    "\n",
    "#### Fuentes:\n",
    "* **https://docs.docker.com/**\n",
    "* https://docs.docker.com/compose/\n",
    "* https://juliomunoz.wordpress.com/2015/01/20/introduccion-a-docker/\n",
    "* https://picodotdev.github.io/blog-bitix/2015/07/aplicaciones-multicontenedor-con-docker-compose/\n",
    "* http://indizen.com/introduccion-a-docker/\n",
    "\n",
    "Nota: algunas imagenes pertenecen a las fuentes citadas"
   ]
  },
  {
   "cell_type": "markdown",
   "metadata": {
    "slideshow": {
     "slide_type": "slide"
    }
   },
   "source": [
    "# Introducción a Docker\n",
    "\n",
    "<img src=\"images/logo.png\"/>"
   ]
  },
  {
   "cell_type": "markdown",
   "metadata": {
    "slideshow": {
     "slide_type": "slide"
    }
   },
   "source": [
    "## ¿Qué es docker?"
   ]
  },
  {
   "cell_type": "markdown",
   "metadata": {
    "slideshow": {
     "slide_type": "fragment"
    }
   },
   "source": [
    "### Administra y gestiona contenedores virtuales\n",
    "\n",
    "Esto te permite empaquetar una aplicación con todas sus dependencias en una unidad estandarizada, garantizando que siempre ejecutaremos lo mismo independientemente del entorno donde se cargue."
   ]
  },
  {
   "cell_type": "markdown",
   "metadata": {
    "slideshow": {
     "slide_type": "fragment"
    }
   },
   "source": [
    "### Provee modos de comunicación entre contenedores y host\n"
   ]
  },
  {
   "cell_type": "markdown",
   "metadata": {
    "slideshow": {
     "slide_type": "slide"
    }
   },
   "source": [
    "## Características"
   ]
  },
  {
   "cell_type": "markdown",
   "metadata": {
    "slideshow": {
     "slide_type": "subslide"
    }
   },
   "source": [
    "### Ligero\n",
    "\n",
    "Los contenedores no son maquinas virtuales, su virtualización es a nivel del SO.\n",
    "Aislan apps y dependencias pero comparten kernel."
   ]
  },
  {
   "cell_type": "markdown",
   "metadata": {
    "slideshow": {
     "slide_type": "fragment"
    }
   },
   "source": [
    "<img src=\"images/ligero.png\" />"
   ]
  },
  {
   "cell_type": "markdown",
   "metadata": {
    "slideshow": {
     "slide_type": "subslide"
    }
   },
   "source": [
    "### Open\n",
    "\n",
    "* Se basa en estándares abiertos.\n",
    "* Se ejecuta de manera nativa en GNU/Linux.\n",
    "* En Windows y Mac se ejecuta a través de **Boot2Docker** (una virtual con Ubuntu y Docker instalado)"
   ]
  },
  {
   "cell_type": "markdown",
   "metadata": {
    "slideshow": {
     "slide_type": "subslide"
    }
   },
   "source": [
    "### Seguro\n",
    "\n",
    "Los contenedores aíslan las aplicaciones unas de otras.\n"
   ]
  },
  {
   "cell_type": "markdown",
   "metadata": {
    "slideshow": {
     "slide_type": "slide"
    }
   },
   "source": [
    "### ¿Cómo nos ayuda Docker a construir mejor software?"
   ]
  },
  {
   "cell_type": "markdown",
   "metadata": {
    "slideshow": {
     "slide_type": "fragment"
    }
   },
   "source": [
    "#### Independiza al desarrollador de la creación de entornos."
   ]
  },
  {
   "cell_type": "markdown",
   "metadata": {
    "slideshow": {
     "slide_type": "fragment"
    }
   },
   "source": [
    "#### No hay conflictos de versiones de herramientos ni dependencias."
   ]
  },
  {
   "cell_type": "markdown",
   "metadata": {
    "slideshow": {
     "slide_type": "fragment"
    }
   },
   "source": [
    "#### Empaquetando la aplicación junto con su configuración y dependencias en un contenedor, la aplicación siempre funcionará como se diseñó localmente."
   ]
  },
  {
   "cell_type": "markdown",
   "metadata": {
    "slideshow": {
     "slide_type": "fragment"
    }
   },
   "source": [
    "#### Los usuarios de Docker, de media, desarrollan y despliegan 7 veces más rápido. Esto agiliza la entrega de versiones y actualizaciones."
   ]
  },
  {
   "cell_type": "markdown",
   "metadata": {
    "slideshow": {
     "slide_type": "fragment"
    }
   },
   "source": [
    "#### Los contenedores se arrancan y paran en segundos, es muy fácil escalar una servicio para atender a picos de demanda."
   ]
  },
  {
   "cell_type": "markdown",
   "metadata": {
    "slideshow": {
     "slide_type": "slide"
    }
   },
   "source": [
    "## Terminología"
   ]
  },
  {
   "cell_type": "markdown",
   "metadata": {
    "slideshow": {
     "slide_type": "subslide"
    }
   },
   "source": [
    "### Imágenes (images)\n",
    "\n",
    "* Snapshot de \"maquinas virtuales\" o contenedores\n",
    "* Gran repositorio público con miles de imágenes (DockerHub)\n",
    "* Personalización de las imagenes.\n",
    "* Podés subir tu imagen al repositorio público."
   ]
  },
  {
   "cell_type": "markdown",
   "metadata": {
    "slideshow": {
     "slide_type": "fragment"
    }
   },
   "source": [
    "<img src=\"images/docker-1.png\"/>"
   ]
  },
  {
   "cell_type": "markdown",
   "metadata": {
    "slideshow": {
     "slide_type": "subslide"
    }
   },
   "source": [
    "### Contenedores (container)\n",
    "\n",
    "* Docker \"ejecuta\" contenedores **(ver LXC)**\n",
    "* Se crean a partir de las imágenes.\n",
    "* Es posible \"mapear\" puertos del contenedores con puertos del host para acceder a ellos."
   ]
  },
  {
   "cell_type": "markdown",
   "metadata": {
    "slideshow": {
     "slide_type": "fragment"
    }
   },
   "source": [
    "<img src=\"images/docker-2.png\"/>"
   ]
  },
  {
   "cell_type": "markdown",
   "metadata": {
    "slideshow": {
     "slide_type": "subslide"
    }
   },
   "source": [
    "### Volúmenes\n",
    "\n",
    "* Permite persistir los datos de tu aplicación.\n",
    "* Se alojan afuera del contenedor.\n",
    "* Son específicos para cada contenedor.\n",
    "* También es posible compartir datos entre contendores.\n"
   ]
  },
  {
   "cell_type": "markdown",
   "metadata": {
    "slideshow": {
     "slide_type": "fragment"
    }
   },
   "source": [
    "<img src=\"images/docker-3.png\" />"
   ]
  },
  {
   "cell_type": "markdown",
   "metadata": {
    "slideshow": {
     "slide_type": "subslide"
    }
   },
   "source": [
    "### Enlaces (links)\n",
    "\n",
    "Al arrancar un contenedor, este tiene un IP privada (los contenedores forman una red local privada).\n",
    "\n",
    "### Especificando un **alias** y **puerto**, podemos conectar distintos contenedores entre sí. \n",
    "\n",
    "Ej: un contenedor con un Nginx y otro con un postgresql. Puedo \"conectarlos\" indicando alias y puerto en uno, y utilizando ese alias desde el otro. **No necesito saber su IP**"
   ]
  },
  {
   "cell_type": "markdown",
   "metadata": {
    "slideshow": {
     "slide_type": "fragment"
    }
   },
   "source": [
    "<img src=\"images/docker-4.png\" />"
   ]
  },
  {
   "cell_type": "markdown",
   "metadata": {
    "slideshow": {
     "slide_type": "slide"
    }
   },
   "source": [
    "# ...y docker-compose?\n",
    "\n",
    "<img src=\"images/compose.png\"/>"
   ]
  },
  {
   "cell_type": "markdown",
   "metadata": {
    "slideshow": {
     "slide_type": "slide"
    }
   },
   "source": [
    "### Docker Compose \n",
    "\n",
    "* nos permite definir nuestra aplicación multicontenedor en un archivo.\n",
    "* podremos iniciar todos los contenedores y en el orden que los especifiquemos."
   ]
  },
  {
   "cell_type": "markdown",
   "metadata": {
    "slideshow": {
     "slide_type": "subslide"
    }
   },
   "source": [
    "## Pero, ¿por qué necesitamos más de un contenedor?"
   ]
  },
  {
   "cell_type": "markdown",
   "metadata": {
    "slideshow": {
     "slide_type": "fragment"
    }
   },
   "source": [
    "Apps modernas:\n",
    "\n",
    "* Nginx\n",
    "* PostgreSQL\n",
    "* Cache\n",
    "* Static and media server\n",
    "* Email server\n",
    "* redis\n",
    "* elasticsearch\n",
    "* balanceo de carga\n",
    "* etc, etc, etc...."
   ]
  },
  {
   "cell_type": "markdown",
   "metadata": {
    "slideshow": {
     "slide_type": "subslide"
    }
   },
   "source": [
    "<img src=\"images/scaling.png\" />"
   ]
  },
  {
   "cell_type": "markdown",
   "metadata": {
    "slideshow": {
     "slide_type": "slide"
    }
   },
   "source": [
    "# Ok pero, ¿cómo lo configuro?\n",
    "\n",
    "<img src=\"images/accepted1.png\" />"
   ]
  },
  {
   "cell_type": "markdown",
   "metadata": {
    "slideshow": {
     "slide_type": "slide"
    }
   },
   "source": [
    "### Ejemplo\n",
    "\n",
    "Veamos un ejemplo sencillo utilizando un contenedor con **wordpress** instalado y otro con un SQL MariaDB de back-end vinculada."
   ]
  },
  {
   "cell_type": "code",
   "execution_count": null,
   "metadata": {
    "collapsed": false,
    "slideshow": {
     "slide_type": "fragment"
    }
   },
   "outputs": [],
   "source": [
    "# %load ejemplo/docker-compose.yml\n",
    "wordpress:\n",
    "  image: wordpress \n",
    "  links: \n",
    "    - db:mysql \n",
    "  ports: \n",
    "    - 8080:80\n",
    "\n",
    "db:\n",
    "  image: mariadb \n",
    "  environment: \n",
    "    MYSQL_ROOT_PASSWORD: 123456\n"
   ]
  },
  {
   "cell_type": "markdown",
   "metadata": {
    "slideshow": {
     "slide_type": "slide"
    }
   },
   "source": [
    "# ¿Vemos si anda?\n",
    "\n",
    "<img src=\"images/porfavor.png\" />"
   ]
  },
  {
   "cell_type": "markdown",
   "metadata": {
    "slideshow": {
     "slide_type": "slide"
    }
   },
   "source": [
    "# ¡¡Muchas gracias!!"
   ]
  },
  {
   "cell_type": "markdown",
   "metadata": {
    "slideshow": {
     "slide_type": "fragment"
    }
   },
   "source": [
    "Presentación: **Jupyter**\n",
    "https://jupyter.org/\n",
    "\n",
    "Control remoto: **Pysenteishon**\n",
    "https://github.com/edvm/pysenteishon"
   ]
  }
 ],
 "metadata": {
  "celltoolbar": "Slideshow",
  "kernelspec": {
   "display_name": "Python 3",
   "language": "python",
   "name": "python3"
  },
  "language_info": {
   "codemirror_mode": {
    "name": "ipython",
    "version": 3
   },
   "file_extension": ".py",
   "mimetype": "text/x-python",
   "name": "python",
   "nbconvert_exporter": "python",
   "pygments_lexer": "ipython3",
   "version": "3.5.0"
  }
 },
 "nbformat": 4,
 "nbformat_minor": 0
}
